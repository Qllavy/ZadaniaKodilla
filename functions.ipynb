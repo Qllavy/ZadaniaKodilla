{
 "cells": [
  {
   "cell_type": "markdown",
   "id": "d756945c",
   "metadata": {},
   "source": [
    "# Tworzenie funkcji w python:"
   ]
  },
  {
   "cell_type": "markdown",
   "id": "10af4ee4",
   "metadata": {},
   "source": [
    "### Najpierw używamy \"def\" oraz zaraz za nim piszemy nazwę naszej funkcji np \"dodawanie\". Należy pamiętać o nawiasach i dwukropku."
   ]
  },
  {
   "cell_type": "code",
   "execution_count": null,
   "id": "fef5d78a",
   "metadata": {},
   "outputs": [],
   "source": [
    "def dodawanie():"
   ]
  },
  {
   "cell_type": "markdown",
   "id": "3b2aa6c8",
   "metadata": {},
   "source": [
    "### Następnnie w nawiasach funkcji wpisujemy nasze argumenty, które potem przy wywoływaniu zamienimy na wartości, w tym przypadku tylko dwa."
   ]
  },
  {
   "cell_type": "code",
   "execution_count": null,
   "id": "49403ccd",
   "metadata": {},
   "outputs": [],
   "source": [
    "def dodawanie(a, b):"
   ]
  },
  {
   "cell_type": "markdown",
   "id": "9c6e810b",
   "metadata": {},
   "source": [
    "### Następnie pod naszą zdefiniowaną funkcją piszemy, jak ma ta funkcja się zachowywać, w tym przypadku dodawać dwie liczby oraz wyświetlić wynik."
   ]
  },
  {
   "cell_type": "code",
   "execution_count": null,
   "id": "3c4a0100",
   "metadata": {},
   "outputs": [],
   "source": [
    "def dodawanie(a, b):\n",
    "    x = a+b\n",
    "    print(x)"
   ]
  },
  {
   "cell_type": "markdown",
   "id": "85372a33",
   "metadata": {},
   "source": [
    "### Aby wywołać tą funkcje należy wpisać jej nazwę oraz dwie wartości, które mają zostać dodane w nawiasach po przecinku."
   ]
  },
  {
   "cell_type": "code",
   "execution_count": 3,
   "id": "48651b6f",
   "metadata": {},
   "outputs": [
    {
     "name": "stdout",
     "output_type": "stream",
     "text": [
      "5\n"
     ]
    }
   ],
   "source": [
    "def dodawanie(a, b):\n",
    "    x = a+b\n",
    "    print(x)\n",
    "\n",
    "dodawanie(2, 3)"
   ]
  }
 ],
 "metadata": {
  "kernelspec": {
   "display_name": "Python 3 (ipykernel)",
   "language": "python",
   "name": "python3"
  },
  "language_info": {
   "codemirror_mode": {
    "name": "ipython",
    "version": 3
   },
   "file_extension": ".py",
   "mimetype": "text/x-python",
   "name": "python",
   "nbconvert_exporter": "python",
   "pygments_lexer": "ipython3",
   "version": "3.11.1"
  }
 },
 "nbformat": 4,
 "nbformat_minor": 5
}
